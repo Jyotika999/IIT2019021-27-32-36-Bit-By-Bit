{
  "nbformat": 4,
  "nbformat_minor": 0,
  "metadata": {
    "kernelspec": {
      "display_name": "Python 3",
      "language": "python",
      "name": "python3"
    },
    "language_info": {
      "codemirror_mode": {
        "name": "ipython",
        "version": 3
      },
      "file_extension": ".py",
      "mimetype": "text/x-python",
      "name": "python",
      "nbconvert_exporter": "python",
      "pygments_lexer": "ipython3",
      "version": "3.8.3"
    },
    "colab": {
      "name": "Analysis Hepatitis SOE.ipynb",
      "provenance": [],
      "include_colab_link": true
    }
  },
  "cells": [
    {
      "cell_type": "markdown",
      "metadata": {
        "id": "view-in-github",
        "colab_type": "text"
      },
      "source": [
        "<a href=\"https://colab.research.google.com/github/Jyotika999/IIT2019036-Bit-By-Bit/blob/main/Analysis_Hepatitis_SOE.ipynb\" target=\"_parent\"><img src=\"https://colab.research.google.com/assets/colab-badge.svg\" alt=\"Open In Colab\"/></a>"
      ]
    },
    {
      "cell_type": "markdown",
      "metadata": {
        "id": "vyax4I1FtIS2"
      },
      "source": [
        "# Analysis of Hepatitis Dataset and Prediction"
      ]
    },
    {
      "cell_type": "markdown",
      "metadata": {
        "id": "UOYcacmVtIS7"
      },
      "source": [
        "# Import Libraries and Exploratory Data Analysis"
      ]
    },
    {
      "cell_type": "code",
      "metadata": {
        "id": "KhtIJx1ktIS8"
      },
      "source": [
        "%matplotlib inline\n",
        "import numpy as np\n",
        "import matplotlib.pyplot as plt \n",
        "from scipy import stats\n",
        "# use seaborn plotting defaults\n",
        "import seaborn as sns; sns.set()\n",
        "import pandas as pd\n",
        "import warnings\n",
        "warnings.filterwarnings(\"ignore\")"
      ],
      "execution_count": 1,
      "outputs": []
    },
    {
      "cell_type": "code",
      "metadata": {
        "id": "tiSPQ6wutIS8"
      },
      "source": [
        "df = pd.read_csv(\"https://raw.githubusercontent.com/manfye/Predict-Hepatitis/main/hepatitis.data\")"
      ],
      "execution_count": 2,
      "outputs": []
    },
    {
      "cell_type": "code",
      "metadata": {
        "colab": {
          "base_uri": "https://localhost:8080/"
        },
        "id": "Lhn_oIlPtIS9",
        "outputId": "5c851e42-2fa5-4b3d-faa6-63dfa3c733c8"
      },
      "source": [
        "df.shape"
      ],
      "execution_count": 3,
      "outputs": [
        {
          "output_type": "execute_result",
          "data": {
            "text/plain": [
              "(154, 20)"
            ]
          },
          "metadata": {
            "tags": []
          },
          "execution_count": 3
        }
      ]
    },
    {
      "cell_type": "code",
      "metadata": {
        "id": "Rn8aR1SWtIS9"
      },
      "source": [
        "columNames=['Class','AGE','SEX','STEROID','ANTIVIRALS','FATIGUE','MALAISE','ANOREXIA','LIVER BIG','LIVER FIRM','SPLEEN PALPABLE','SPIDERS','ASCITES','VARICES','BILIRUBIN','ALK PHOSPHATE','SGOT','ALBUMIN','PROTIME','HISTOLOGY']"
      ],
      "execution_count": 4,
      "outputs": []
    },
    {
      "cell_type": "code",
      "metadata": {
        "id": "IyIynLSktIS-"
      },
      "source": [
        "df = pd.read_csv(\"https://raw.githubusercontent.com/manfye/Predict-Hepatitis/main/hepatitis.data\", names=columNames)"
      ],
      "execution_count": 5,
      "outputs": []
    },
    {
      "cell_type": "code",
      "metadata": {
        "colab": {
          "base_uri": "https://localhost:8080/",
          "height": 212
        },
        "id": "bBVaCDuztIS-",
        "outputId": "d79b016d-07cb-4dbd-abfe-38a417ddea15"
      },
      "source": [
        "df.head(5)"
      ],
      "execution_count": 6,
      "outputs": [
        {
          "output_type": "execute_result",
          "data": {
            "text/html": [
              "<div>\n",
              "<style scoped>\n",
              "    .dataframe tbody tr th:only-of-type {\n",
              "        vertical-align: middle;\n",
              "    }\n",
              "\n",
              "    .dataframe tbody tr th {\n",
              "        vertical-align: top;\n",
              "    }\n",
              "\n",
              "    .dataframe thead th {\n",
              "        text-align: right;\n",
              "    }\n",
              "</style>\n",
              "<table border=\"1\" class=\"dataframe\">\n",
              "  <thead>\n",
              "    <tr style=\"text-align: right;\">\n",
              "      <th></th>\n",
              "      <th>Class</th>\n",
              "      <th>AGE</th>\n",
              "      <th>SEX</th>\n",
              "      <th>STEROID</th>\n",
              "      <th>ANTIVIRALS</th>\n",
              "      <th>FATIGUE</th>\n",
              "      <th>MALAISE</th>\n",
              "      <th>ANOREXIA</th>\n",
              "      <th>LIVER BIG</th>\n",
              "      <th>LIVER FIRM</th>\n",
              "      <th>SPLEEN PALPABLE</th>\n",
              "      <th>SPIDERS</th>\n",
              "      <th>ASCITES</th>\n",
              "      <th>VARICES</th>\n",
              "      <th>BILIRUBIN</th>\n",
              "      <th>ALK PHOSPHATE</th>\n",
              "      <th>SGOT</th>\n",
              "      <th>ALBUMIN</th>\n",
              "      <th>PROTIME</th>\n",
              "      <th>HISTOLOGY</th>\n",
              "    </tr>\n",
              "  </thead>\n",
              "  <tbody>\n",
              "    <tr>\n",
              "      <th>0</th>\n",
              "      <td>2</td>\n",
              "      <td>30</td>\n",
              "      <td>2</td>\n",
              "      <td>1</td>\n",
              "      <td>2</td>\n",
              "      <td>2</td>\n",
              "      <td>2</td>\n",
              "      <td>2</td>\n",
              "      <td>1</td>\n",
              "      <td>2</td>\n",
              "      <td>2</td>\n",
              "      <td>2</td>\n",
              "      <td>2</td>\n",
              "      <td>2</td>\n",
              "      <td>1.00</td>\n",
              "      <td>85</td>\n",
              "      <td>18</td>\n",
              "      <td>4.0</td>\n",
              "      <td>?</td>\n",
              "      <td>1</td>\n",
              "    </tr>\n",
              "    <tr>\n",
              "      <th>1</th>\n",
              "      <td>2</td>\n",
              "      <td>50</td>\n",
              "      <td>1</td>\n",
              "      <td>1</td>\n",
              "      <td>2</td>\n",
              "      <td>1</td>\n",
              "      <td>2</td>\n",
              "      <td>2</td>\n",
              "      <td>1</td>\n",
              "      <td>2</td>\n",
              "      <td>2</td>\n",
              "      <td>2</td>\n",
              "      <td>2</td>\n",
              "      <td>2</td>\n",
              "      <td>0.90</td>\n",
              "      <td>135</td>\n",
              "      <td>42</td>\n",
              "      <td>3.5</td>\n",
              "      <td>?</td>\n",
              "      <td>1</td>\n",
              "    </tr>\n",
              "    <tr>\n",
              "      <th>2</th>\n",
              "      <td>2</td>\n",
              "      <td>78</td>\n",
              "      <td>1</td>\n",
              "      <td>2</td>\n",
              "      <td>2</td>\n",
              "      <td>1</td>\n",
              "      <td>2</td>\n",
              "      <td>2</td>\n",
              "      <td>2</td>\n",
              "      <td>2</td>\n",
              "      <td>2</td>\n",
              "      <td>2</td>\n",
              "      <td>2</td>\n",
              "      <td>2</td>\n",
              "      <td>0.70</td>\n",
              "      <td>96</td>\n",
              "      <td>32</td>\n",
              "      <td>4.0</td>\n",
              "      <td>?</td>\n",
              "      <td>1</td>\n",
              "    </tr>\n",
              "    <tr>\n",
              "      <th>3</th>\n",
              "      <td>2</td>\n",
              "      <td>31</td>\n",
              "      <td>1</td>\n",
              "      <td>?</td>\n",
              "      <td>1</td>\n",
              "      <td>2</td>\n",
              "      <td>2</td>\n",
              "      <td>2</td>\n",
              "      <td>2</td>\n",
              "      <td>2</td>\n",
              "      <td>2</td>\n",
              "      <td>2</td>\n",
              "      <td>2</td>\n",
              "      <td>2</td>\n",
              "      <td>0.70</td>\n",
              "      <td>46</td>\n",
              "      <td>52</td>\n",
              "      <td>4.0</td>\n",
              "      <td>80</td>\n",
              "      <td>1</td>\n",
              "    </tr>\n",
              "    <tr>\n",
              "      <th>4</th>\n",
              "      <td>2</td>\n",
              "      <td>34</td>\n",
              "      <td>1</td>\n",
              "      <td>2</td>\n",
              "      <td>2</td>\n",
              "      <td>2</td>\n",
              "      <td>2</td>\n",
              "      <td>2</td>\n",
              "      <td>2</td>\n",
              "      <td>2</td>\n",
              "      <td>2</td>\n",
              "      <td>2</td>\n",
              "      <td>2</td>\n",
              "      <td>2</td>\n",
              "      <td>1.00</td>\n",
              "      <td>?</td>\n",
              "      <td>200</td>\n",
              "      <td>4.0</td>\n",
              "      <td>?</td>\n",
              "      <td>1</td>\n",
              "    </tr>\n",
              "  </tbody>\n",
              "</table>\n",
              "</div>"
            ],
            "text/plain": [
              "   Class  AGE  SEX STEROID  ...  SGOT ALBUMIN PROTIME HISTOLOGY\n",
              "0      2   30    2       1  ...    18     4.0       ?         1\n",
              "1      2   50    1       1  ...    42     3.5       ?         1\n",
              "2      2   78    1       2  ...    32     4.0       ?         1\n",
              "3      2   31    1       ?  ...    52     4.0      80         1\n",
              "4      2   34    1       2  ...   200     4.0       ?         1\n",
              "\n",
              "[5 rows x 20 columns]"
            ]
          },
          "metadata": {
            "tags": []
          },
          "execution_count": 6
        }
      ]
    },
    {
      "cell_type": "code",
      "metadata": {
        "colab": {
          "base_uri": "https://localhost:8080/"
        },
        "id": "0aH_lQLstIS-",
        "outputId": "c00306ff-f96d-42e0-8f58-021bf5f0d95a"
      },
      "source": [
        "df.replace(\"?\",np.nan, inplace = True)\n",
        "df.isnull().sum()"
      ],
      "execution_count": 7,
      "outputs": [
        {
          "output_type": "execute_result",
          "data": {
            "text/plain": [
              "Class               0\n",
              "AGE                 0\n",
              "SEX                 0\n",
              "STEROID             1\n",
              "ANTIVIRALS          0\n",
              "FATIGUE             1\n",
              "MALAISE             1\n",
              "ANOREXIA            1\n",
              "LIVER BIG          10\n",
              "LIVER FIRM         11\n",
              "SPLEEN PALPABLE     5\n",
              "SPIDERS             5\n",
              "ASCITES             5\n",
              "VARICES             5\n",
              "BILIRUBIN           6\n",
              "ALK PHOSPHATE      29\n",
              "SGOT                4\n",
              "ALBUMIN            16\n",
              "PROTIME            67\n",
              "HISTOLOGY           0\n",
              "dtype: int64"
            ]
          },
          "metadata": {
            "tags": []
          },
          "execution_count": 7
        }
      ]
    },
    {
      "cell_type": "code",
      "metadata": {
        "id": "c_yCwryQtIS_"
      },
      "source": [
        "df_ori = df"
      ],
      "execution_count": 8,
      "outputs": []
    },
    {
      "cell_type": "code",
      "metadata": {
        "colab": {
          "base_uri": "https://localhost:8080/"
        },
        "id": "sWLQREoTtIS_",
        "outputId": "d33aa999-80de-4c3e-ab6c-9c40430f09a6"
      },
      "source": [
        "df.info()"
      ],
      "execution_count": 9,
      "outputs": [
        {
          "output_type": "stream",
          "text": [
            "<class 'pandas.core.frame.DataFrame'>\n",
            "RangeIndex: 155 entries, 0 to 154\n",
            "Data columns (total 20 columns):\n",
            " #   Column           Non-Null Count  Dtype \n",
            "---  ------           --------------  ----- \n",
            " 0   Class            155 non-null    int64 \n",
            " 1   AGE              155 non-null    int64 \n",
            " 2   SEX              155 non-null    int64 \n",
            " 3   STEROID          154 non-null    object\n",
            " 4   ANTIVIRALS       155 non-null    int64 \n",
            " 5   FATIGUE          154 non-null    object\n",
            " 6   MALAISE          154 non-null    object\n",
            " 7   ANOREXIA         154 non-null    object\n",
            " 8   LIVER BIG        145 non-null    object\n",
            " 9   LIVER FIRM       144 non-null    object\n",
            " 10  SPLEEN PALPABLE  150 non-null    object\n",
            " 11  SPIDERS          150 non-null    object\n",
            " 12  ASCITES          150 non-null    object\n",
            " 13  VARICES          150 non-null    object\n",
            " 14  BILIRUBIN        149 non-null    object\n",
            " 15  ALK PHOSPHATE    126 non-null    object\n",
            " 16  SGOT             151 non-null    object\n",
            " 17  ALBUMIN          139 non-null    object\n",
            " 18  PROTIME          88 non-null     object\n",
            " 19  HISTOLOGY        155 non-null    int64 \n",
            "dtypes: int64(5), object(15)\n",
            "memory usage: 24.3+ KB\n"
          ],
          "name": "stdout"
        }
      ]
    },
    {
      "cell_type": "code",
      "metadata": {
        "id": "WoRKqF3stIS_"
      },
      "source": [
        "numerical_variables = ['AGE', 'BILIRUBIN', 'PROTIME', 'ALBUMIN', 'ALK PHOSPHATE', 'SGOT']"
      ],
      "execution_count": 10,
      "outputs": []
    },
    {
      "cell_type": "markdown",
      "metadata": {
        "id": "ckpZOPZgtIS_"
      },
      "source": [
        "# Handling of missing data\n",
        "\n"
      ]
    },
    {
      "cell_type": "code",
      "metadata": {
        "id": "bSwd1p7NtITA"
      },
      "source": [
        "df[\"BILIRUBIN\"] = df.BILIRUBIN.astype(float)\n",
        "df[\"PROTIME\"] = df.PROTIME.astype(float)\n",
        "df[\"ALK PHOSPHATE\"] = df[\"ALK PHOSPHATE\"].astype(float)\n",
        "df[\"SGOT\"] = df.SGOT.astype(float)\n",
        "df[\"ALBUMIN\"] = df.ALBUMIN.astype(float)"
      ],
      "execution_count": 11,
      "outputs": []
    },
    {
      "cell_type": "code",
      "metadata": {
        "colab": {
          "base_uri": "https://localhost:8080/"
        },
        "id": "vuK091MhtITA",
        "outputId": "3a66381b-9464-4e88-e616-f23b5854ff4b"
      },
      "source": [
        "df[numerical_variables].dtypes"
      ],
      "execution_count": 12,
      "outputs": [
        {
          "output_type": "execute_result",
          "data": {
            "text/plain": [
              "AGE                int64\n",
              "BILIRUBIN        float64\n",
              "PROTIME          float64\n",
              "ALBUMIN          float64\n",
              "ALK PHOSPHATE    float64\n",
              "SGOT             float64\n",
              "dtype: object"
            ]
          },
          "metadata": {
            "tags": []
          },
          "execution_count": 12
        }
      ]
    },
    {
      "cell_type": "code",
      "metadata": {
        "colab": {
          "base_uri": "https://localhost:8080/",
          "height": 284
        },
        "id": "TuxX2tdhtITA",
        "outputId": "a2417b93-229e-462f-adbb-76c5dc99370b"
      },
      "source": [
        "df[numerical_variables].describe()"
      ],
      "execution_count": 13,
      "outputs": [
        {
          "output_type": "execute_result",
          "data": {
            "text/html": [
              "<div>\n",
              "<style scoped>\n",
              "    .dataframe tbody tr th:only-of-type {\n",
              "        vertical-align: middle;\n",
              "    }\n",
              "\n",
              "    .dataframe tbody tr th {\n",
              "        vertical-align: top;\n",
              "    }\n",
              "\n",
              "    .dataframe thead th {\n",
              "        text-align: right;\n",
              "    }\n",
              "</style>\n",
              "<table border=\"1\" class=\"dataframe\">\n",
              "  <thead>\n",
              "    <tr style=\"text-align: right;\">\n",
              "      <th></th>\n",
              "      <th>AGE</th>\n",
              "      <th>BILIRUBIN</th>\n",
              "      <th>PROTIME</th>\n",
              "      <th>ALBUMIN</th>\n",
              "      <th>ALK PHOSPHATE</th>\n",
              "      <th>SGOT</th>\n",
              "    </tr>\n",
              "  </thead>\n",
              "  <tbody>\n",
              "    <tr>\n",
              "      <th>count</th>\n",
              "      <td>155.000000</td>\n",
              "      <td>149.000000</td>\n",
              "      <td>88.000000</td>\n",
              "      <td>139.000000</td>\n",
              "      <td>126.000000</td>\n",
              "      <td>151.00000</td>\n",
              "    </tr>\n",
              "    <tr>\n",
              "      <th>mean</th>\n",
              "      <td>41.200000</td>\n",
              "      <td>1.427517</td>\n",
              "      <td>61.852273</td>\n",
              "      <td>3.817266</td>\n",
              "      <td>105.325397</td>\n",
              "      <td>85.89404</td>\n",
              "    </tr>\n",
              "    <tr>\n",
              "      <th>std</th>\n",
              "      <td>12.565878</td>\n",
              "      <td>1.212149</td>\n",
              "      <td>22.875244</td>\n",
              "      <td>0.651523</td>\n",
              "      <td>51.508109</td>\n",
              "      <td>89.65089</td>\n",
              "    </tr>\n",
              "    <tr>\n",
              "      <th>min</th>\n",
              "      <td>7.000000</td>\n",
              "      <td>0.300000</td>\n",
              "      <td>0.000000</td>\n",
              "      <td>2.100000</td>\n",
              "      <td>26.000000</td>\n",
              "      <td>14.00000</td>\n",
              "    </tr>\n",
              "    <tr>\n",
              "      <th>25%</th>\n",
              "      <td>32.000000</td>\n",
              "      <td>0.700000</td>\n",
              "      <td>46.000000</td>\n",
              "      <td>3.400000</td>\n",
              "      <td>74.250000</td>\n",
              "      <td>31.50000</td>\n",
              "    </tr>\n",
              "    <tr>\n",
              "      <th>50%</th>\n",
              "      <td>39.000000</td>\n",
              "      <td>1.000000</td>\n",
              "      <td>61.000000</td>\n",
              "      <td>4.000000</td>\n",
              "      <td>85.000000</td>\n",
              "      <td>58.00000</td>\n",
              "    </tr>\n",
              "    <tr>\n",
              "      <th>75%</th>\n",
              "      <td>50.000000</td>\n",
              "      <td>1.500000</td>\n",
              "      <td>76.250000</td>\n",
              "      <td>4.200000</td>\n",
              "      <td>132.250000</td>\n",
              "      <td>100.50000</td>\n",
              "    </tr>\n",
              "    <tr>\n",
              "      <th>max</th>\n",
              "      <td>78.000000</td>\n",
              "      <td>8.000000</td>\n",
              "      <td>100.000000</td>\n",
              "      <td>6.400000</td>\n",
              "      <td>295.000000</td>\n",
              "      <td>648.00000</td>\n",
              "    </tr>\n",
              "  </tbody>\n",
              "</table>\n",
              "</div>"
            ],
            "text/plain": [
              "              AGE   BILIRUBIN     PROTIME     ALBUMIN  ALK PHOSPHATE       SGOT\n",
              "count  155.000000  149.000000   88.000000  139.000000     126.000000  151.00000\n",
              "mean    41.200000    1.427517   61.852273    3.817266     105.325397   85.89404\n",
              "std     12.565878    1.212149   22.875244    0.651523      51.508109   89.65089\n",
              "min      7.000000    0.300000    0.000000    2.100000      26.000000   14.00000\n",
              "25%     32.000000    0.700000   46.000000    3.400000      74.250000   31.50000\n",
              "50%     39.000000    1.000000   61.000000    4.000000      85.000000   58.00000\n",
              "75%     50.000000    1.500000   76.250000    4.200000     132.250000  100.50000\n",
              "max     78.000000    8.000000  100.000000    6.400000     295.000000  648.00000"
            ]
          },
          "metadata": {
            "tags": []
          },
          "execution_count": 13
        }
      ]
    },
    {
      "cell_type": "code",
      "metadata": {
        "colab": {
          "base_uri": "https://localhost:8080/",
          "height": 195
        },
        "id": "OY8l57nrtITB",
        "outputId": "1a51d260-01cf-4169-e8da-f67fed5bb21d"
      },
      "source": [
        "df[numerical_variables].fillna(df[numerical_variables].mean()).head(5)"
      ],
      "execution_count": 14,
      "outputs": [
        {
          "output_type": "execute_result",
          "data": {
            "text/html": [
              "<div>\n",
              "<style scoped>\n",
              "    .dataframe tbody tr th:only-of-type {\n",
              "        vertical-align: middle;\n",
              "    }\n",
              "\n",
              "    .dataframe tbody tr th {\n",
              "        vertical-align: top;\n",
              "    }\n",
              "\n",
              "    .dataframe thead th {\n",
              "        text-align: right;\n",
              "    }\n",
              "</style>\n",
              "<table border=\"1\" class=\"dataframe\">\n",
              "  <thead>\n",
              "    <tr style=\"text-align: right;\">\n",
              "      <th></th>\n",
              "      <th>AGE</th>\n",
              "      <th>BILIRUBIN</th>\n",
              "      <th>PROTIME</th>\n",
              "      <th>ALBUMIN</th>\n",
              "      <th>ALK PHOSPHATE</th>\n",
              "      <th>SGOT</th>\n",
              "    </tr>\n",
              "  </thead>\n",
              "  <tbody>\n",
              "    <tr>\n",
              "      <th>0</th>\n",
              "      <td>30</td>\n",
              "      <td>1.0</td>\n",
              "      <td>61.852273</td>\n",
              "      <td>4.0</td>\n",
              "      <td>85.000000</td>\n",
              "      <td>18.0</td>\n",
              "    </tr>\n",
              "    <tr>\n",
              "      <th>1</th>\n",
              "      <td>50</td>\n",
              "      <td>0.9</td>\n",
              "      <td>61.852273</td>\n",
              "      <td>3.5</td>\n",
              "      <td>135.000000</td>\n",
              "      <td>42.0</td>\n",
              "    </tr>\n",
              "    <tr>\n",
              "      <th>2</th>\n",
              "      <td>78</td>\n",
              "      <td>0.7</td>\n",
              "      <td>61.852273</td>\n",
              "      <td>4.0</td>\n",
              "      <td>96.000000</td>\n",
              "      <td>32.0</td>\n",
              "    </tr>\n",
              "    <tr>\n",
              "      <th>3</th>\n",
              "      <td>31</td>\n",
              "      <td>0.7</td>\n",
              "      <td>80.000000</td>\n",
              "      <td>4.0</td>\n",
              "      <td>46.000000</td>\n",
              "      <td>52.0</td>\n",
              "    </tr>\n",
              "    <tr>\n",
              "      <th>4</th>\n",
              "      <td>34</td>\n",
              "      <td>1.0</td>\n",
              "      <td>61.852273</td>\n",
              "      <td>4.0</td>\n",
              "      <td>105.325397</td>\n",
              "      <td>200.0</td>\n",
              "    </tr>\n",
              "  </tbody>\n",
              "</table>\n",
              "</div>"
            ],
            "text/plain": [
              "   AGE  BILIRUBIN    PROTIME  ALBUMIN  ALK PHOSPHATE   SGOT\n",
              "0   30        1.0  61.852273      4.0      85.000000   18.0\n",
              "1   50        0.9  61.852273      3.5     135.000000   42.0\n",
              "2   78        0.7  61.852273      4.0      96.000000   32.0\n",
              "3   31        0.7  80.000000      4.0      46.000000   52.0\n",
              "4   34        1.0  61.852273      4.0     105.325397  200.0"
            ]
          },
          "metadata": {
            "tags": []
          },
          "execution_count": 14
        }
      ]
    },
    {
      "cell_type": "code",
      "metadata": {
        "colab": {
          "base_uri": "https://localhost:8080/",
          "height": 166
        },
        "id": "MqBQGE1dtITB",
        "outputId": "d2b1c3bd-ef39-43fe-ec68-8d1fb98f2b11"
      },
      "source": [
        "categorical_variables = ['SEX' , 'STEROID', 'ANTIVIRALS', 'FATIGUE','MALAISE','ANOREXIA','LIVER BIG','LIVER FIRM','SPLEEN PALPABLE',\n",
        "'SPIDERS','ASCITES','VARICES', 'HISTOLOGY']\n",
        "df[categorical_variables].apply(pd.Series.value_counts)\n"
      ],
      "execution_count": 15,
      "outputs": [
        {
          "output_type": "execute_result",
          "data": {
            "text/html": [
              "<div>\n",
              "<style scoped>\n",
              "    .dataframe tbody tr th:only-of-type {\n",
              "        vertical-align: middle;\n",
              "    }\n",
              "\n",
              "    .dataframe tbody tr th {\n",
              "        vertical-align: top;\n",
              "    }\n",
              "\n",
              "    .dataframe thead th {\n",
              "        text-align: right;\n",
              "    }\n",
              "</style>\n",
              "<table border=\"1\" class=\"dataframe\">\n",
              "  <thead>\n",
              "    <tr style=\"text-align: right;\">\n",
              "      <th></th>\n",
              "      <th>SEX</th>\n",
              "      <th>STEROID</th>\n",
              "      <th>ANTIVIRALS</th>\n",
              "      <th>FATIGUE</th>\n",
              "      <th>MALAISE</th>\n",
              "      <th>ANOREXIA</th>\n",
              "      <th>LIVER BIG</th>\n",
              "      <th>LIVER FIRM</th>\n",
              "      <th>SPLEEN PALPABLE</th>\n",
              "      <th>SPIDERS</th>\n",
              "      <th>ASCITES</th>\n",
              "      <th>VARICES</th>\n",
              "      <th>HISTOLOGY</th>\n",
              "    </tr>\n",
              "  </thead>\n",
              "  <tbody>\n",
              "    <tr>\n",
              "      <th>1</th>\n",
              "      <td>139.0</td>\n",
              "      <td>NaN</td>\n",
              "      <td>24.0</td>\n",
              "      <td>NaN</td>\n",
              "      <td>NaN</td>\n",
              "      <td>NaN</td>\n",
              "      <td>NaN</td>\n",
              "      <td>NaN</td>\n",
              "      <td>NaN</td>\n",
              "      <td>NaN</td>\n",
              "      <td>NaN</td>\n",
              "      <td>NaN</td>\n",
              "      <td>85.0</td>\n",
              "    </tr>\n",
              "    <tr>\n",
              "      <th>2</th>\n",
              "      <td>16.0</td>\n",
              "      <td>NaN</td>\n",
              "      <td>131.0</td>\n",
              "      <td>NaN</td>\n",
              "      <td>NaN</td>\n",
              "      <td>NaN</td>\n",
              "      <td>NaN</td>\n",
              "      <td>NaN</td>\n",
              "      <td>NaN</td>\n",
              "      <td>NaN</td>\n",
              "      <td>NaN</td>\n",
              "      <td>NaN</td>\n",
              "      <td>70.0</td>\n",
              "    </tr>\n",
              "    <tr>\n",
              "      <th>1</th>\n",
              "      <td>NaN</td>\n",
              "      <td>76.0</td>\n",
              "      <td>NaN</td>\n",
              "      <td>100.0</td>\n",
              "      <td>61.0</td>\n",
              "      <td>32.0</td>\n",
              "      <td>25.0</td>\n",
              "      <td>60.0</td>\n",
              "      <td>30.0</td>\n",
              "      <td>51.0</td>\n",
              "      <td>20.0</td>\n",
              "      <td>18.0</td>\n",
              "      <td>NaN</td>\n",
              "    </tr>\n",
              "    <tr>\n",
              "      <th>2</th>\n",
              "      <td>NaN</td>\n",
              "      <td>78.0</td>\n",
              "      <td>NaN</td>\n",
              "      <td>54.0</td>\n",
              "      <td>93.0</td>\n",
              "      <td>122.0</td>\n",
              "      <td>120.0</td>\n",
              "      <td>84.0</td>\n",
              "      <td>120.0</td>\n",
              "      <td>99.0</td>\n",
              "      <td>130.0</td>\n",
              "      <td>132.0</td>\n",
              "      <td>NaN</td>\n",
              "    </tr>\n",
              "  </tbody>\n",
              "</table>\n",
              "</div>"
            ],
            "text/plain": [
              "     SEX  STEROID  ANTIVIRALS  FATIGUE  ...  SPIDERS  ASCITES  VARICES  HISTOLOGY\n",
              "1  139.0      NaN        24.0      NaN  ...      NaN      NaN      NaN       85.0\n",
              "2   16.0      NaN       131.0      NaN  ...      NaN      NaN      NaN       70.0\n",
              "1    NaN     76.0         NaN    100.0  ...     51.0     20.0     18.0        NaN\n",
              "2    NaN     78.0         NaN     54.0  ...     99.0    130.0    132.0        NaN\n",
              "\n",
              "[4 rows x 13 columns]"
            ]
          },
          "metadata": {
            "tags": []
          },
          "execution_count": 15
        }
      ]
    },
    {
      "cell_type": "code",
      "metadata": {
        "id": "xjSGoeOttITB"
      },
      "source": [
        "#Impute the values using scikit-learn SimpleImpute Class\n",
        "from sklearn.impute import SimpleImputer\n",
        "imp_mean = SimpleImputer(missing_values=np.nan,strategy='most_frequent')\n",
        "imp_mean.fit(df_ori)\n",
        "imputed_train_df = imp_mean.transform(df_ori)"
      ],
      "execution_count": 16,
      "outputs": []
    },
    {
      "cell_type": "code",
      "metadata": {
        "id": "buCDQ_1itITC"
      },
      "source": [
        "imputedDf = pd.DataFrame(imputed_train_df,columns=columNames)"
      ],
      "execution_count": 17,
      "outputs": []
    },
    {
      "cell_type": "code",
      "metadata": {
        "colab": {
          "base_uri": "https://localhost:8080/"
        },
        "id": "hG5tmXPOtITC",
        "outputId": "da62241b-ab9f-4c95-c9ff-00ee3b59e187"
      },
      "source": [
        "imputedDf.info()"
      ],
      "execution_count": 18,
      "outputs": [
        {
          "output_type": "stream",
          "text": [
            "<class 'pandas.core.frame.DataFrame'>\n",
            "RangeIndex: 155 entries, 0 to 154\n",
            "Data columns (total 20 columns):\n",
            " #   Column           Non-Null Count  Dtype \n",
            "---  ------           --------------  ----- \n",
            " 0   Class            155 non-null    object\n",
            " 1   AGE              155 non-null    object\n",
            " 2   SEX              155 non-null    object\n",
            " 3   STEROID          155 non-null    object\n",
            " 4   ANTIVIRALS       155 non-null    object\n",
            " 5   FATIGUE          155 non-null    object\n",
            " 6   MALAISE          155 non-null    object\n",
            " 7   ANOREXIA         155 non-null    object\n",
            " 8   LIVER BIG        155 non-null    object\n",
            " 9   LIVER FIRM       155 non-null    object\n",
            " 10  SPLEEN PALPABLE  155 non-null    object\n",
            " 11  SPIDERS          155 non-null    object\n",
            " 12  ASCITES          155 non-null    object\n",
            " 13  VARICES          155 non-null    object\n",
            " 14  BILIRUBIN        155 non-null    object\n",
            " 15  ALK PHOSPHATE    155 non-null    object\n",
            " 16  SGOT             155 non-null    object\n",
            " 17  ALBUMIN          155 non-null    object\n",
            " 18  PROTIME          155 non-null    object\n",
            " 19  HISTOLOGY        155 non-null    object\n",
            "dtypes: object(20)\n",
            "memory usage: 24.3+ KB\n"
          ],
          "name": "stdout"
        }
      ]
    },
    {
      "cell_type": "code",
      "metadata": {
        "colab": {
          "base_uri": "https://localhost:8080/"
        },
        "id": "QZPF3ciEtITC",
        "outputId": "a879ddd1-8404-4773-e90a-9adaf73204cb"
      },
      "source": [
        "imputedDf.count()"
      ],
      "execution_count": 19,
      "outputs": [
        {
          "output_type": "execute_result",
          "data": {
            "text/plain": [
              "Class              155\n",
              "AGE                155\n",
              "SEX                155\n",
              "STEROID            155\n",
              "ANTIVIRALS         155\n",
              "FATIGUE            155\n",
              "MALAISE            155\n",
              "ANOREXIA           155\n",
              "LIVER BIG          155\n",
              "LIVER FIRM         155\n",
              "SPLEEN PALPABLE    155\n",
              "SPIDERS            155\n",
              "ASCITES            155\n",
              "VARICES            155\n",
              "BILIRUBIN          155\n",
              "ALK PHOSPHATE      155\n",
              "SGOT               155\n",
              "ALBUMIN            155\n",
              "PROTIME            155\n",
              "HISTOLOGY          155\n",
              "dtype: int64"
            ]
          },
          "metadata": {
            "tags": []
          },
          "execution_count": 19
        }
      ]
    },
    {
      "cell_type": "code",
      "metadata": {
        "colab": {
          "base_uri": "https://localhost:8080/",
          "height": 166
        },
        "id": "C-1FjUDVtITC",
        "outputId": "2130c5a1-6173-4a11-dbdd-1617b39f92d1"
      },
      "source": [
        "imputedDf[categorical_variables].apply(pd.Series.value_counts)"
      ],
      "execution_count": 20,
      "outputs": [
        {
          "output_type": "execute_result",
          "data": {
            "text/html": [
              "<div>\n",
              "<style scoped>\n",
              "    .dataframe tbody tr th:only-of-type {\n",
              "        vertical-align: middle;\n",
              "    }\n",
              "\n",
              "    .dataframe tbody tr th {\n",
              "        vertical-align: top;\n",
              "    }\n",
              "\n",
              "    .dataframe thead th {\n",
              "        text-align: right;\n",
              "    }\n",
              "</style>\n",
              "<table border=\"1\" class=\"dataframe\">\n",
              "  <thead>\n",
              "    <tr style=\"text-align: right;\">\n",
              "      <th></th>\n",
              "      <th>SEX</th>\n",
              "      <th>STEROID</th>\n",
              "      <th>ANTIVIRALS</th>\n",
              "      <th>FATIGUE</th>\n",
              "      <th>MALAISE</th>\n",
              "      <th>ANOREXIA</th>\n",
              "      <th>LIVER BIG</th>\n",
              "      <th>LIVER FIRM</th>\n",
              "      <th>SPLEEN PALPABLE</th>\n",
              "      <th>SPIDERS</th>\n",
              "      <th>ASCITES</th>\n",
              "      <th>VARICES</th>\n",
              "      <th>HISTOLOGY</th>\n",
              "    </tr>\n",
              "  </thead>\n",
              "  <tbody>\n",
              "    <tr>\n",
              "      <th>1</th>\n",
              "      <td>139.0</td>\n",
              "      <td>NaN</td>\n",
              "      <td>24.0</td>\n",
              "      <td>NaN</td>\n",
              "      <td>NaN</td>\n",
              "      <td>NaN</td>\n",
              "      <td>NaN</td>\n",
              "      <td>NaN</td>\n",
              "      <td>NaN</td>\n",
              "      <td>NaN</td>\n",
              "      <td>NaN</td>\n",
              "      <td>NaN</td>\n",
              "      <td>85.0</td>\n",
              "    </tr>\n",
              "    <tr>\n",
              "      <th>2</th>\n",
              "      <td>16.0</td>\n",
              "      <td>NaN</td>\n",
              "      <td>131.0</td>\n",
              "      <td>NaN</td>\n",
              "      <td>NaN</td>\n",
              "      <td>NaN</td>\n",
              "      <td>NaN</td>\n",
              "      <td>NaN</td>\n",
              "      <td>NaN</td>\n",
              "      <td>NaN</td>\n",
              "      <td>NaN</td>\n",
              "      <td>NaN</td>\n",
              "      <td>70.0</td>\n",
              "    </tr>\n",
              "    <tr>\n",
              "      <th>1</th>\n",
              "      <td>NaN</td>\n",
              "      <td>76.0</td>\n",
              "      <td>NaN</td>\n",
              "      <td>101.0</td>\n",
              "      <td>61.0</td>\n",
              "      <td>32.0</td>\n",
              "      <td>25.0</td>\n",
              "      <td>60.0</td>\n",
              "      <td>30.0</td>\n",
              "      <td>51.0</td>\n",
              "      <td>20.0</td>\n",
              "      <td>18.0</td>\n",
              "      <td>NaN</td>\n",
              "    </tr>\n",
              "    <tr>\n",
              "      <th>2</th>\n",
              "      <td>NaN</td>\n",
              "      <td>79.0</td>\n",
              "      <td>NaN</td>\n",
              "      <td>54.0</td>\n",
              "      <td>94.0</td>\n",
              "      <td>123.0</td>\n",
              "      <td>130.0</td>\n",
              "      <td>95.0</td>\n",
              "      <td>125.0</td>\n",
              "      <td>104.0</td>\n",
              "      <td>135.0</td>\n",
              "      <td>137.0</td>\n",
              "      <td>NaN</td>\n",
              "    </tr>\n",
              "  </tbody>\n",
              "</table>\n",
              "</div>"
            ],
            "text/plain": [
              "     SEX  STEROID  ANTIVIRALS  FATIGUE  ...  SPIDERS  ASCITES  VARICES  HISTOLOGY\n",
              "1  139.0      NaN        24.0      NaN  ...      NaN      NaN      NaN       85.0\n",
              "2   16.0      NaN       131.0      NaN  ...      NaN      NaN      NaN       70.0\n",
              "1    NaN     76.0         NaN    101.0  ...     51.0     20.0     18.0        NaN\n",
              "2    NaN     79.0         NaN     54.0  ...    104.0    135.0    137.0        NaN\n",
              "\n",
              "[4 rows x 13 columns]"
            ]
          },
          "metadata": {
            "tags": []
          },
          "execution_count": 20
        }
      ]
    },
    {
      "cell_type": "code",
      "metadata": {
        "id": "QYsDv-gVtITC"
      },
      "source": [
        "imputedDf[categorical_variables] = imputedDf[categorical_variables].astype(int)"
      ],
      "execution_count": 21,
      "outputs": []
    },
    {
      "cell_type": "code",
      "metadata": {
        "colab": {
          "base_uri": "https://localhost:8080/",
          "height": 106
        },
        "id": "SrNyXfTTtITD",
        "outputId": "e760036f-ac73-465e-8e5c-09c4a37f25ed"
      },
      "source": [
        "imputedDf[categorical_variables].apply(pd.Series.value_counts)"
      ],
      "execution_count": 22,
      "outputs": [
        {
          "output_type": "execute_result",
          "data": {
            "text/html": [
              "<div>\n",
              "<style scoped>\n",
              "    .dataframe tbody tr th:only-of-type {\n",
              "        vertical-align: middle;\n",
              "    }\n",
              "\n",
              "    .dataframe tbody tr th {\n",
              "        vertical-align: top;\n",
              "    }\n",
              "\n",
              "    .dataframe thead th {\n",
              "        text-align: right;\n",
              "    }\n",
              "</style>\n",
              "<table border=\"1\" class=\"dataframe\">\n",
              "  <thead>\n",
              "    <tr style=\"text-align: right;\">\n",
              "      <th></th>\n",
              "      <th>SEX</th>\n",
              "      <th>STEROID</th>\n",
              "      <th>ANTIVIRALS</th>\n",
              "      <th>FATIGUE</th>\n",
              "      <th>MALAISE</th>\n",
              "      <th>ANOREXIA</th>\n",
              "      <th>LIVER BIG</th>\n",
              "      <th>LIVER FIRM</th>\n",
              "      <th>SPLEEN PALPABLE</th>\n",
              "      <th>SPIDERS</th>\n",
              "      <th>ASCITES</th>\n",
              "      <th>VARICES</th>\n",
              "      <th>HISTOLOGY</th>\n",
              "    </tr>\n",
              "  </thead>\n",
              "  <tbody>\n",
              "    <tr>\n",
              "      <th>1</th>\n",
              "      <td>139</td>\n",
              "      <td>76</td>\n",
              "      <td>24</td>\n",
              "      <td>101</td>\n",
              "      <td>61</td>\n",
              "      <td>32</td>\n",
              "      <td>25</td>\n",
              "      <td>60</td>\n",
              "      <td>30</td>\n",
              "      <td>51</td>\n",
              "      <td>20</td>\n",
              "      <td>18</td>\n",
              "      <td>85</td>\n",
              "    </tr>\n",
              "    <tr>\n",
              "      <th>2</th>\n",
              "      <td>16</td>\n",
              "      <td>79</td>\n",
              "      <td>131</td>\n",
              "      <td>54</td>\n",
              "      <td>94</td>\n",
              "      <td>123</td>\n",
              "      <td>130</td>\n",
              "      <td>95</td>\n",
              "      <td>125</td>\n",
              "      <td>104</td>\n",
              "      <td>135</td>\n",
              "      <td>137</td>\n",
              "      <td>70</td>\n",
              "    </tr>\n",
              "  </tbody>\n",
              "</table>\n",
              "</div>"
            ],
            "text/plain": [
              "   SEX  STEROID  ANTIVIRALS  FATIGUE  ...  SPIDERS  ASCITES  VARICES  HISTOLOGY\n",
              "1  139       76          24      101  ...       51       20       18         85\n",
              "2   16       79         131       54  ...      104      135      137         70\n",
              "\n",
              "[2 rows x 13 columns]"
            ]
          },
          "metadata": {
            "tags": []
          },
          "execution_count": 22
        }
      ]
    },
    {
      "cell_type": "code",
      "metadata": {
        "colab": {
          "base_uri": "https://localhost:8080/",
          "height": 284
        },
        "id": "o-QTDt_BtITD",
        "outputId": "ae4f5c9d-2863-4b61-b0de-bd2e843492d1"
      },
      "source": [
        "imputedDf.describe()"
      ],
      "execution_count": 23,
      "outputs": [
        {
          "output_type": "execute_result",
          "data": {
            "text/html": [
              "<div>\n",
              "<style scoped>\n",
              "    .dataframe tbody tr th:only-of-type {\n",
              "        vertical-align: middle;\n",
              "    }\n",
              "\n",
              "    .dataframe tbody tr th {\n",
              "        vertical-align: top;\n",
              "    }\n",
              "\n",
              "    .dataframe thead th {\n",
              "        text-align: right;\n",
              "    }\n",
              "</style>\n",
              "<table border=\"1\" class=\"dataframe\">\n",
              "  <thead>\n",
              "    <tr style=\"text-align: right;\">\n",
              "      <th></th>\n",
              "      <th>SEX</th>\n",
              "      <th>STEROID</th>\n",
              "      <th>ANTIVIRALS</th>\n",
              "      <th>FATIGUE</th>\n",
              "      <th>MALAISE</th>\n",
              "      <th>ANOREXIA</th>\n",
              "      <th>LIVER BIG</th>\n",
              "      <th>LIVER FIRM</th>\n",
              "      <th>SPLEEN PALPABLE</th>\n",
              "      <th>SPIDERS</th>\n",
              "      <th>ASCITES</th>\n",
              "      <th>VARICES</th>\n",
              "      <th>HISTOLOGY</th>\n",
              "    </tr>\n",
              "  </thead>\n",
              "  <tbody>\n",
              "    <tr>\n",
              "      <th>count</th>\n",
              "      <td>155.000000</td>\n",
              "      <td>155.000000</td>\n",
              "      <td>155.000000</td>\n",
              "      <td>155.000000</td>\n",
              "      <td>155.000000</td>\n",
              "      <td>155.000000</td>\n",
              "      <td>155.000000</td>\n",
              "      <td>155.000000</td>\n",
              "      <td>155.000000</td>\n",
              "      <td>155.000000</td>\n",
              "      <td>155.000000</td>\n",
              "      <td>155.000000</td>\n",
              "      <td>155.000000</td>\n",
              "    </tr>\n",
              "    <tr>\n",
              "      <th>mean</th>\n",
              "      <td>1.103226</td>\n",
              "      <td>1.509677</td>\n",
              "      <td>1.845161</td>\n",
              "      <td>1.348387</td>\n",
              "      <td>1.606452</td>\n",
              "      <td>1.793548</td>\n",
              "      <td>1.838710</td>\n",
              "      <td>1.612903</td>\n",
              "      <td>1.806452</td>\n",
              "      <td>1.670968</td>\n",
              "      <td>1.870968</td>\n",
              "      <td>1.883871</td>\n",
              "      <td>1.451613</td>\n",
              "    </tr>\n",
              "    <tr>\n",
              "      <th>std</th>\n",
              "      <td>0.305240</td>\n",
              "      <td>0.501527</td>\n",
              "      <td>0.362923</td>\n",
              "      <td>0.478004</td>\n",
              "      <td>0.490120</td>\n",
              "      <td>0.406070</td>\n",
              "      <td>0.368991</td>\n",
              "      <td>0.488665</td>\n",
              "      <td>0.396360</td>\n",
              "      <td>0.471385</td>\n",
              "      <td>0.336322</td>\n",
              "      <td>0.321418</td>\n",
              "      <td>0.499266</td>\n",
              "    </tr>\n",
              "    <tr>\n",
              "      <th>min</th>\n",
              "      <td>1.000000</td>\n",
              "      <td>1.000000</td>\n",
              "      <td>1.000000</td>\n",
              "      <td>1.000000</td>\n",
              "      <td>1.000000</td>\n",
              "      <td>1.000000</td>\n",
              "      <td>1.000000</td>\n",
              "      <td>1.000000</td>\n",
              "      <td>1.000000</td>\n",
              "      <td>1.000000</td>\n",
              "      <td>1.000000</td>\n",
              "      <td>1.000000</td>\n",
              "      <td>1.000000</td>\n",
              "    </tr>\n",
              "    <tr>\n",
              "      <th>25%</th>\n",
              "      <td>1.000000</td>\n",
              "      <td>1.000000</td>\n",
              "      <td>2.000000</td>\n",
              "      <td>1.000000</td>\n",
              "      <td>1.000000</td>\n",
              "      <td>2.000000</td>\n",
              "      <td>2.000000</td>\n",
              "      <td>1.000000</td>\n",
              "      <td>2.000000</td>\n",
              "      <td>1.000000</td>\n",
              "      <td>2.000000</td>\n",
              "      <td>2.000000</td>\n",
              "      <td>1.000000</td>\n",
              "    </tr>\n",
              "    <tr>\n",
              "      <th>50%</th>\n",
              "      <td>1.000000</td>\n",
              "      <td>2.000000</td>\n",
              "      <td>2.000000</td>\n",
              "      <td>1.000000</td>\n",
              "      <td>2.000000</td>\n",
              "      <td>2.000000</td>\n",
              "      <td>2.000000</td>\n",
              "      <td>2.000000</td>\n",
              "      <td>2.000000</td>\n",
              "      <td>2.000000</td>\n",
              "      <td>2.000000</td>\n",
              "      <td>2.000000</td>\n",
              "      <td>1.000000</td>\n",
              "    </tr>\n",
              "    <tr>\n",
              "      <th>75%</th>\n",
              "      <td>1.000000</td>\n",
              "      <td>2.000000</td>\n",
              "      <td>2.000000</td>\n",
              "      <td>2.000000</td>\n",
              "      <td>2.000000</td>\n",
              "      <td>2.000000</td>\n",
              "      <td>2.000000</td>\n",
              "      <td>2.000000</td>\n",
              "      <td>2.000000</td>\n",
              "      <td>2.000000</td>\n",
              "      <td>2.000000</td>\n",
              "      <td>2.000000</td>\n",
              "      <td>2.000000</td>\n",
              "    </tr>\n",
              "    <tr>\n",
              "      <th>max</th>\n",
              "      <td>2.000000</td>\n",
              "      <td>2.000000</td>\n",
              "      <td>2.000000</td>\n",
              "      <td>2.000000</td>\n",
              "      <td>2.000000</td>\n",
              "      <td>2.000000</td>\n",
              "      <td>2.000000</td>\n",
              "      <td>2.000000</td>\n",
              "      <td>2.000000</td>\n",
              "      <td>2.000000</td>\n",
              "      <td>2.000000</td>\n",
              "      <td>2.000000</td>\n",
              "      <td>2.000000</td>\n",
              "    </tr>\n",
              "  </tbody>\n",
              "</table>\n",
              "</div>"
            ],
            "text/plain": [
              "              SEX     STEROID  ANTIVIRALS  ...     ASCITES     VARICES   HISTOLOGY\n",
              "count  155.000000  155.000000  155.000000  ...  155.000000  155.000000  155.000000\n",
              "mean     1.103226    1.509677    1.845161  ...    1.870968    1.883871    1.451613\n",
              "std      0.305240    0.501527    0.362923  ...    0.336322    0.321418    0.499266\n",
              "min      1.000000    1.000000    1.000000  ...    1.000000    1.000000    1.000000\n",
              "25%      1.000000    1.000000    2.000000  ...    2.000000    2.000000    1.000000\n",
              "50%      1.000000    2.000000    2.000000  ...    2.000000    2.000000    1.000000\n",
              "75%      1.000000    2.000000    2.000000  ...    2.000000    2.000000    2.000000\n",
              "max      2.000000    2.000000    2.000000  ...    2.000000    2.000000    2.000000\n",
              "\n",
              "[8 rows x 13 columns]"
            ]
          },
          "metadata": {
            "tags": []
          },
          "execution_count": 23
        }
      ]
    },
    {
      "cell_type": "code",
      "metadata": {
        "id": "910fOat_tITD"
      },
      "source": [
        "imputedDf[\"Class\"] = imputedDf[\"Class\"].astype(int)"
      ],
      "execution_count": 24,
      "outputs": []
    },
    {
      "cell_type": "code",
      "metadata": {
        "colab": {
          "base_uri": "https://localhost:8080/",
          "height": 301
        },
        "id": "2yY6h0i6tITD",
        "outputId": "dc37814b-d21c-4734-9ef7-277438fd9922"
      },
      "source": [
        "class_count=sns.countplot(x=\"Class\", data=imputedDf)\n",
        "plt.gca().set_xticklabels(['Death','Alive']);\n",
        "class_count.set_title(\"Count of Outcome\")\n",
        "class_count.figure.savefig('class_count.png')\n"
      ],
      "execution_count": 25,
      "outputs": [
        {
          "output_type": "display_data",
          "data": {
            "image/png": "[encoded data removed]",
            "text/plain": [
              "<Figure size 432x288 with 1 Axes>"
            ]
          },
          "metadata": {
            "tags": [],
            "needs_background": "light"
          }
        }
      ]
    },
    {
      "cell_type": "code",
      "metadata": {
        "colab": {
          "base_uri": "https://localhost:8080/",
          "height": 285
        },
        "id": "Hwp8doWztITE",
        "outputId": "6c7f5ff8-9d1e-4ec1-ea7d-4bffe5a0ed5d"
      },
      "source": [
        "class_count=sns.countplot(x=\"Class\",hue=\"SEX\", data=imputedDf)\n",
        "plt.gca().set_xticklabels(['Death','Alive']);\n",
        "plt.legend(title='SEX', loc='upper left', labels=['Male', 'Female'])\n",
        "plt.show(class_count)"
      ],
      "execution_count": 26,
      "outputs": [
        {
          "output_type": "display_data",
          "data": {
            "image/png": "[encoded data removed]",
            "text/plain": [
              "<Figure size 432x288 with 1 Axes>"
            ]
          },
          "metadata": {
            "tags": [],
            "needs_background": "light"
          }
        }
      ]
    },
    {
      "cell_type": "code",
      "metadata": {
        "colab": {
          "base_uri": "https://localhost:8080/",
          "height": 418
        },
        "id": "ZhMMIn38yWhV",
        "outputId": "82730e0c-6ffb-4e14-ede6-2282f9793a39"
      },
      "source": [
        "imputedDf.isnull()"
      ],
      "execution_count": 27,
      "outputs": [
        {
          "output_type": "execute_result",
          "data": {
            "text/html": [
              "<div>\n",
              "<style scoped>\n",
              "    .dataframe tbody tr th:only-of-type {\n",
              "        vertical-align: middle;\n",
              "    }\n",
              "\n",
              "    .dataframe tbody tr th {\n",
              "        vertical-align: top;\n",
              "    }\n",
              "\n",
              "    .dataframe thead th {\n",
              "        text-align: right;\n",
              "    }\n",
              "</style>\n",
              "<table border=\"1\" class=\"dataframe\">\n",
              "  <thead>\n",
              "    <tr style=\"text-align: right;\">\n",
              "      <th></th>\n",
              "      <th>Class</th>\n",
              "      <th>AGE</th>\n",
              "      <th>SEX</th>\n",
              "      <th>STEROID</th>\n",
              "      <th>ANTIVIRALS</th>\n",
              "      <th>FATIGUE</th>\n",
              "      <th>MALAISE</th>\n",
              "      <th>ANOREXIA</th>\n",
              "      <th>LIVER BIG</th>\n",
              "      <th>LIVER FIRM</th>\n",
              "      <th>SPLEEN PALPABLE</th>\n",
              "      <th>SPIDERS</th>\n",
              "      <th>ASCITES</th>\n",
              "      <th>VARICES</th>\n",
              "      <th>BILIRUBIN</th>\n",
              "      <th>ALK PHOSPHATE</th>\n",
              "      <th>SGOT</th>\n",
              "      <th>ALBUMIN</th>\n",
              "      <th>PROTIME</th>\n",
              "      <th>HISTOLOGY</th>\n",
              "    </tr>\n",
              "  </thead>\n",
              "  <tbody>\n",
              "    <tr>\n",
              "      <th>0</th>\n",
              "      <td>False</td>\n",
              "      <td>False</td>\n",
              "      <td>False</td>\n",
              "      <td>False</td>\n",
              "      <td>False</td>\n",
              "      <td>False</td>\n",
              "      <td>False</td>\n",
              "      <td>False</td>\n",
              "      <td>False</td>\n",
              "      <td>False</td>\n",
              "      <td>False</td>\n",
              "      <td>False</td>\n",
              "      <td>False</td>\n",
              "      <td>False</td>\n",
              "      <td>False</td>\n",
              "      <td>False</td>\n",
              "      <td>False</td>\n",
              "      <td>False</td>\n",
              "      <td>False</td>\n",
              "      <td>False</td>\n",
              "    </tr>\n",
              "    <tr>\n",
              "      <th>1</th>\n",
              "      <td>False</td>\n",
              "      <td>False</td>\n",
              "      <td>False</td>\n",
              "      <td>False</td>\n",
              "      <td>False</td>\n",
              "      <td>False</td>\n",
              "      <td>False</td>\n",
              "      <td>False</td>\n",
              "      <td>False</td>\n",
              "      <td>False</td>\n",
              "      <td>False</td>\n",
              "      <td>False</td>\n",
              "      <td>False</td>\n",
              "      <td>False</td>\n",
              "      <td>False</td>\n",
              "      <td>False</td>\n",
              "      <td>False</td>\n",
              "      <td>False</td>\n",
              "      <td>False</td>\n",
              "      <td>False</td>\n",
              "    </tr>\n",
              "    <tr>\n",
              "      <th>2</th>\n",
              "      <td>False</td>\n",
              "      <td>False</td>\n",
              "      <td>False</td>\n",
              "      <td>False</td>\n",
              "      <td>False</td>\n",
              "      <td>False</td>\n",
              "      <td>False</td>\n",
              "      <td>False</td>\n",
              "      <td>False</td>\n",
              "      <td>False</td>\n",
              "      <td>False</td>\n",
              "      <td>False</td>\n",
              "      <td>False</td>\n",
              "      <td>False</td>\n",
              "      <td>False</td>\n",
              "      <td>False</td>\n",
              "      <td>False</td>\n",
              "      <td>False</td>\n",
              "      <td>False</td>\n",
              "      <td>False</td>\n",
              "    </tr>\n",
              "    <tr>\n",
              "      <th>3</th>\n",
              "      <td>False</td>\n",
              "      <td>False</td>\n",
              "      <td>False</td>\n",
              "      <td>False</td>\n",
              "      <td>False</td>\n",
              "      <td>False</td>\n",
              "      <td>False</td>\n",
              "      <td>False</td>\n",
              "      <td>False</td>\n",
              "      <td>False</td>\n",
              "      <td>False</td>\n",
              "      <td>False</td>\n",
              "      <td>False</td>\n",
              "      <td>False</td>\n",
              "      <td>False</td>\n",
              "      <td>False</td>\n",
              "      <td>False</td>\n",
              "      <td>False</td>\n",
              "      <td>False</td>\n",
              "      <td>False</td>\n",
              "    </tr>\n",
              "    <tr>\n",
              "      <th>4</th>\n",
              "      <td>False</td>\n",
              "      <td>False</td>\n",
              "      <td>False</td>\n",
              "      <td>False</td>\n",
              "      <td>False</td>\n",
              "      <td>False</td>\n",
              "      <td>False</td>\n",
              "      <td>False</td>\n",
              "      <td>False</td>\n",
              "      <td>False</td>\n",
              "      <td>False</td>\n",
              "      <td>False</td>\n",
              "      <td>False</td>\n",
              "      <td>False</td>\n",
              "      <td>False</td>\n",
              "      <td>False</td>\n",
              "      <td>False</td>\n",
              "      <td>False</td>\n",
              "      <td>False</td>\n",
              "      <td>False</td>\n",
              "    </tr>\n",
              "    <tr>\n",
              "      <th>...</th>\n",
              "      <td>...</td>\n",
              "      <td>...</td>\n",
              "      <td>...</td>\n",
              "      <td>...</td>\n",
              "      <td>...</td>\n",
              "      <td>...</td>\n",
              "      <td>...</td>\n",
              "      <td>...</td>\n",
              "      <td>...</td>\n",
              "      <td>...</td>\n",
              "      <td>...</td>\n",
              "      <td>...</td>\n",
              "      <td>...</td>\n",
              "      <td>...</td>\n",
              "      <td>...</td>\n",
              "      <td>...</td>\n",
              "      <td>...</td>\n",
              "      <td>...</td>\n",
              "      <td>...</td>\n",
              "      <td>...</td>\n",
              "    </tr>\n",
              "    <tr>\n",
              "      <th>150</th>\n",
              "      <td>False</td>\n",
              "      <td>False</td>\n",
              "      <td>False</td>\n",
              "      <td>False</td>\n",
              "      <td>False</td>\n",
              "      <td>False</td>\n",
              "      <td>False</td>\n",
              "      <td>False</td>\n",
              "      <td>False</td>\n",
              "      <td>False</td>\n",
              "      <td>False</td>\n",
              "      <td>False</td>\n",
              "      <td>False</td>\n",
              "      <td>False</td>\n",
              "      <td>False</td>\n",
              "      <td>False</td>\n",
              "      <td>False</td>\n",
              "      <td>False</td>\n",
              "      <td>False</td>\n",
              "      <td>False</td>\n",
              "    </tr>\n",
              "    <tr>\n",
              "      <th>151</th>\n",
              "      <td>False</td>\n",
              "      <td>False</td>\n",
              "      <td>False</td>\n",
              "      <td>False</td>\n",
              "      <td>False</td>\n",
              "      <td>False</td>\n",
              "      <td>False</td>\n",
              "      <td>False</td>\n",
              "      <td>False</td>\n",
              "      <td>False</td>\n",
              "      <td>False</td>\n",
              "      <td>False</td>\n",
              "      <td>False</td>\n",
              "      <td>False</td>\n",
              "      <td>False</td>\n",
              "      <td>False</td>\n",
              "      <td>False</td>\n",
              "      <td>False</td>\n",
              "      <td>False</td>\n",
              "      <td>False</td>\n",
              "    </tr>\n",
              "    <tr>\n",
              "      <th>152</th>\n",
              "      <td>False</td>\n",
              "      <td>False</td>\n",
              "      <td>False</td>\n",
              "      <td>False</td>\n",
              "      <td>False</td>\n",
              "      <td>False</td>\n",
              "      <td>False</td>\n",
              "      <td>False</td>\n",
              "      <td>False</td>\n",
              "      <td>False</td>\n",
              "      <td>False</td>\n",
              "      <td>False</td>\n",
              "      <td>False</td>\n",
              "      <td>False</td>\n",
              "      <td>False</td>\n",
              "      <td>False</td>\n",
              "      <td>False</td>\n",
              "      <td>False</td>\n",
              "      <td>False</td>\n",
              "      <td>False</td>\n",
              "    </tr>\n",
              "    <tr>\n",
              "      <th>153</th>\n",
              "      <td>False</td>\n",
              "      <td>False</td>\n",
              "      <td>False</td>\n",
              "      <td>False</td>\n",
              "      <td>False</td>\n",
              "      <td>False</td>\n",
              "      <td>False</td>\n",
              "      <td>False</td>\n",
              "      <td>False</td>\n",
              "      <td>False</td>\n",
              "      <td>False</td>\n",
              "      <td>False</td>\n",
              "      <td>False</td>\n",
              "      <td>False</td>\n",
              "      <td>False</td>\n",
              "      <td>False</td>\n",
              "      <td>False</td>\n",
              "      <td>False</td>\n",
              "      <td>False</td>\n",
              "      <td>False</td>\n",
              "    </tr>\n",
              "    <tr>\n",
              "      <th>154</th>\n",
              "      <td>False</td>\n",
              "      <td>False</td>\n",
              "      <td>False</td>\n",
              "      <td>False</td>\n",
              "      <td>False</td>\n",
              "      <td>False</td>\n",
              "      <td>False</td>\n",
              "      <td>False</td>\n",
              "      <td>False</td>\n",
              "      <td>False</td>\n",
              "      <td>False</td>\n",
              "      <td>False</td>\n",
              "      <td>False</td>\n",
              "      <td>False</td>\n",
              "      <td>False</td>\n",
              "      <td>False</td>\n",
              "      <td>False</td>\n",
              "      <td>False</td>\n",
              "      <td>False</td>\n",
              "      <td>False</td>\n",
              "    </tr>\n",
              "  </tbody>\n",
              "</table>\n",
              "<p>155 rows × 20 columns</p>\n",
              "</div>"
            ],
            "text/plain": [
              "     Class    AGE    SEX  STEROID  ...   SGOT  ALBUMIN  PROTIME  HISTOLOGY\n",
              "0    False  False  False    False  ...  False    False    False      False\n",
              "1    False  False  False    False  ...  False    False    False      False\n",
              "2    False  False  False    False  ...  False    False    False      False\n",
              "3    False  False  False    False  ...  False    False    False      False\n",
              "4    False  False  False    False  ...  False    False    False      False\n",
              "..     ...    ...    ...      ...  ...    ...      ...      ...        ...\n",
              "150  False  False  False    False  ...  False    False    False      False\n",
              "151  False  False  False    False  ...  False    False    False      False\n",
              "152  False  False  False    False  ...  False    False    False      False\n",
              "153  False  False  False    False  ...  False    False    False      False\n",
              "154  False  False  False    False  ...  False    False    False      False\n",
              "\n",
              "[155 rows x 20 columns]"
            ]
          },
          "metadata": {
            "tags": []
          },
          "execution_count": 27
        }
      ]
    },
    {
      "cell_type": "code",
      "metadata": {
        "colab": {
          "base_uri": "https://localhost:8080/",
          "height": 374
        },
        "id": "q6NcsmwVy1i5",
        "outputId": "ef77f00f-c5c3-41e6-f2c2-fb4a3b359870"
      },
      "source": [
        "sns.heatmap(imputedDf.isnull(), yticklabels=False, cbar = False, cmap='viridis')  #no null value detected"
      ],
      "execution_count": 28,
      "outputs": [
        {
          "output_type": "execute_result",
          "data": {
            "text/plain": [
              "<matplotlib.axes._subplots.AxesSubplot at 0x7f4201f25a10>"
            ]
          },
          "metadata": {
            "tags": []
          },
          "execution_count": 28
        },
        {
          "output_type": "display_data",
          "data": {
            "image/png": "[encoded data removed]",
            "text/plain": [
              "<Figure size 432x288 with 1 Axes>"
            ]
          },
          "metadata": {
            "tags": [],
            "needs_background": "light"
          }
        }
      ]
    },
    {
      "cell_type": "code",
      "metadata": {
        "colab": {
          "base_uri": "https://localhost:8080/"
        },
        "id": "hiDrjbDLzAT7",
        "outputId": "a5a470fb-3cdd-4485-af5e-8622727d0a74"
      },
      "source": [
        "imputedDf.info()"
      ],
      "execution_count": 29,
      "outputs": [
        {
          "output_type": "stream",
          "text": [
            "<class 'pandas.core.frame.DataFrame'>\n",
            "RangeIndex: 155 entries, 0 to 154\n",
            "Data columns (total 20 columns):\n",
            " #   Column           Non-Null Count  Dtype \n",
            "---  ------           --------------  ----- \n",
            " 0   Class            155 non-null    int64 \n",
            " 1   AGE              155 non-null    object\n",
            " 2   SEX              155 non-null    int64 \n",
            " 3   STEROID          155 non-null    int64 \n",
            " 4   ANTIVIRALS       155 non-null    int64 \n",
            " 5   FATIGUE          155 non-null    int64 \n",
            " 6   MALAISE          155 non-null    int64 \n",
            " 7   ANOREXIA         155 non-null    int64 \n",
            " 8   LIVER BIG        155 non-null    int64 \n",
            " 9   LIVER FIRM       155 non-null    int64 \n",
            " 10  SPLEEN PALPABLE  155 non-null    int64 \n",
            " 11  SPIDERS          155 non-null    int64 \n",
            " 12  ASCITES          155 non-null    int64 \n",
            " 13  VARICES          155 non-null    int64 \n",
            " 14  BILIRUBIN        155 non-null    object\n",
            " 15  ALK PHOSPHATE    155 non-null    object\n",
            " 16  SGOT             155 non-null    object\n",
            " 17  ALBUMIN          155 non-null    object\n",
            " 18  PROTIME          155 non-null    object\n",
            " 19  HISTOLOGY        155 non-null    int64 \n",
            "dtypes: int64(14), object(6)\n",
            "memory usage: 24.3+ KB\n"
          ],
          "name": "stdout"
        }
      ]
    },
    {
      "cell_type": "code",
      "metadata": {
        "colab": {
          "base_uri": "https://localhost:8080/"
        },
        "id": "VAMvihd8zsUH",
        "outputId": "6e65c98e-ba54-47ee-e4bd-c8f8f48a9552"
      },
      "source": [
        "print(imputedDf)"
      ],
      "execution_count": 30,
      "outputs": [
        {
          "output_type": "stream",
          "text": [
            "     Class AGE  SEX  STEROID  ...  SGOT  ALBUMIN  PROTIME  HISTOLOGY\n",
            "0        2  30    2        1  ...    18        4      100          1\n",
            "1        2  50    1        1  ...    42      3.5      100          1\n",
            "2        2  78    1        2  ...    32        4      100          1\n",
            "3        2  31    1        2  ...    52        4       80          1\n",
            "4        2  34    1        2  ...   200        4      100          1\n",
            "..     ...  ..  ...      ...  ...   ...      ...      ...        ...\n",
            "150      1  46    1        2  ...   242      3.3       50          2\n",
            "151      2  44    1        2  ...   142      4.3      100          2\n",
            "152      2  61    1        1  ...    20      4.1      100          2\n",
            "153      2  53    2        1  ...    19      4.1       48          2\n",
            "154      1  43    1        2  ...    19      3.1       42          2\n",
            "\n",
            "[155 rows x 20 columns]\n"
          ],
          "name": "stdout"
        }
      ]
    },
    {
      "cell_type": "code",
      "metadata": {
        "id": "4iZKVqRu2Gaa",
        "colab": {
          "base_uri": "https://localhost:8080/"
        },
        "outputId": "b9d41391-6aeb-4a24-f080-427c25ffd7a1"
      },
      "source": [
        "\n",
        "imputedDf.isnull().mean().sort_values(ascending=False).head(5)"
      ],
      "execution_count": 31,
      "outputs": [
        {
          "output_type": "execute_result",
          "data": {
            "text/plain": [
              "HISTOLOGY    0.0\n",
              "PROTIME      0.0\n",
              "AGE          0.0\n",
              "SEX          0.0\n",
              "STEROID      0.0\n",
              "dtype: float64"
            ]
          },
          "metadata": {
            "tags": []
          },
          "execution_count": 31
        }
      ]
    },
    {
      "cell_type": "code",
      "metadata": {
        "colab": {
          "base_uri": "https://localhost:8080/"
        },
        "id": "nipkukAJ0GxN",
        "outputId": "042644ca-93a1-48e5-951b-a2114b6e63d8"
      },
      "source": [
        "print(imputedDf.columns)"
      ],
      "execution_count": 32,
      "outputs": [
        {
          "output_type": "stream",
          "text": [
            "Index(['Class', 'AGE', 'SEX', 'STEROID', 'ANTIVIRALS', 'FATIGUE', 'MALAISE',\n",
            "       'ANOREXIA', 'LIVER BIG', 'LIVER FIRM', 'SPLEEN PALPABLE', 'SPIDERS',\n",
            "       'ASCITES', 'VARICES', 'BILIRUBIN', 'ALK PHOSPHATE', 'SGOT', 'ALBUMIN',\n",
            "       'PROTIME', 'HISTOLOGY'],\n",
            "      dtype='object')\n"
          ],
          "name": "stdout"
        }
      ]
    },
    {
      "cell_type": "code",
      "metadata": {
        "colab": {
          "base_uri": "https://localhost:8080/",
          "height": 754
        },
        "id": "mXKRCNnu0P0a",
        "outputId": "ad95e2e0-cae5-48a8-cb82-63ee37715516"
      },
      "source": [
        "fig = plt.figure(figsize=(12,18))\n",
        "for i in range(len(imputedDf.columns)):\n",
        "    fig.add_subplot(9,4,i+1)\n",
        "    sns.distplot(imputedDf.iloc[:,i].dropna(), rug=True, hist=True, label='UW', kde_kws={'bw':0.1})\n",
        "    plt.xlabel(imputedDf.columns[i])\n",
        "plt.tight_layout()\n",
        "plt.show()"
      ],
      "execution_count": 33,
      "outputs": [
        {
          "output_type": "display_data",
          "data": {
            "image/png": "[encoded data removed]",
            "text/plain": [
              "<Figure size 864x1296 with 20 Axes>"
            ]
          },
          "metadata": {
            "tags": [],
            "needs_background": "light"
          }
        }
      ]
    },
    {
      "cell_type": "code",
      "metadata": {
        "colab": {
          "base_uri": "https://localhost:8080/",
          "height": 754
        },
        "id": "xXqzmafC1PyQ",
        "outputId": "9a0a9dbe-6fe4-4410-a51c-93a856236a81"
      },
      "source": [
        "\n",
        "fig3 = plt.figure(figsize=(12,18))\n",
        "for i in range(len(imputedDf.columns)):\n",
        "    fig3.add_subplot(9, 4, i+1)\n",
        "    sns.scatterplot(imputedDf.iloc[:, i],imputedDf['Class'])\n",
        "plt.tight_layout()\n",
        "plt.show()"
      ],
      "execution_count": 34,
      "outputs": [
        {
          "output_type": "display_data",
          "data": {
            "image/png": "[encoded data removed]",
            "text/plain": [
              "<Figure size 864x1296 with 20 Axes>"
            ]
          },
          "metadata": {
            "tags": [],
            "needs_background": "light"
          }
        }
      ]
    },
    {
      "cell_type": "markdown",
      "metadata": {
        "id": "z8F87YCKtITE"
      },
      "source": [
        "# Covariance matrix for feature selection"
      ]
    },
    {
      "cell_type": "code",
      "metadata": {
        "id": "KbxKQBdvywLn"
      },
      "source": [
        ""
      ],
      "execution_count": 34,
      "outputs": []
    },
    {
      "cell_type": "code",
      "metadata": {
        "id": "RJhIp5yStITE"
      },
      "source": [
        "corrmat = imputedDf.corr(method ='spearman')"
      ],
      "execution_count": 35,
      "outputs": []
    },
    {
      "cell_type": "code",
      "metadata": {
        "id": "thRk37tdtITE",
        "colab": {
          "base_uri": "https://localhost:8080/"
        },
        "outputId": "187eb6b3-3e35-435c-f008-32d8ef77c109"
      },
      "source": [
        "corrmat[\"Class\"]"
      ],
      "execution_count": 36,
      "outputs": [
        {
          "output_type": "execute_result",
          "data": {
            "text/plain": [
              "Class              1.000000\n",
              "SEX                0.173051\n",
              "STEROID            0.137413\n",
              "ANTIVIRALS        -0.130196\n",
              "FATIGUE            0.306049\n",
              "MALAISE            0.339530\n",
              "ANOREXIA           0.133638\n",
              "LIVER BIG         -0.093665\n",
              "LIVER FIRM         0.020057\n",
              "SPLEEN PALPABLE    0.234261\n",
              "SPIDERS            0.389137\n",
              "ASCITES            0.469334\n",
              "VARICES            0.362385\n",
              "HISTOLOGY         -0.337856\n",
              "Name: Class, dtype: float64"
            ]
          },
          "metadata": {
            "tags": []
          },
          "execution_count": 36
        }
      ]
    },
    {
      "cell_type": "code",
      "metadata": {
        "scrolled": true,
        "id": "kqvi-pUutITF",
        "colab": {
          "base_uri": "https://localhost:8080/",
          "height": 0
        },
        "outputId": "797d3a78-67c8-46a8-a2ea-2c9978e55eaa"
      },
      "source": [
        "plt.figure(figsize=(20,10))\n",
        "g=sns.heatmap(corrmat,annot=True)\n",
        "g.figure.savefig('g.png')"
      ],
      "execution_count": 37,
      "outputs": [
        {
          "output_type": "display_data",
          "data": {
            "image/png": "[encoded data removed]",
            "text/plain": [
              "<Figure size 1440x720 with 2 Axes>"
            ]
          },
          "metadata": {
            "tags": [],
            "needs_background": "light"
          }
        }
      ]
    },
    {
      "cell_type": "code",
      "metadata": {
        "id": "XOLFMLGNtITF"
      },
      "source": [
        "imputedDf[numerical_variables] = imputedDf[numerical_variables].astype(float)"
      ],
      "execution_count": 38,
      "outputs": []
    },
    {
      "cell_type": "code",
      "metadata": {
        "id": "dTj3bQT9tITF"
      },
      "source": [
        "numerical_class = ['AGE', 'BILIRUBIN', 'PROTIME', 'ALBUMIN', 'ALK PHOSPHATE', 'SGOT','Class']"
      ],
      "execution_count": 39,
      "outputs": []
    },
    {
      "cell_type": "code",
      "metadata": {
        "id": "lmMp3UCWtITF"
      },
      "source": [
        "pairplot = sns.pairplot(imputedDf[numerical_class] ,hue=\"Class\",palette='winter')\n",
        "plt.show(pairplot)"
      ],
      "execution_count": null,
      "outputs": []
    },
    {
      "cell_type": "code",
      "metadata": {
        "id": "zcOXGM-7tITG"
      },
      "source": [
        "ax = sns.distplot(imputedDf[\"BILIRUBIN\"], fit=stats.norm, kde=True)"
      ],
      "execution_count": null,
      "outputs": []
    },
    {
      "cell_type": "code",
      "metadata": {
        "id": "V-FfRGdItITG"
      },
      "source": [
        "sns.distplot(imputedDf['ALBUMIN'], fit=stats.norm, kde=True);"
      ],
      "execution_count": null,
      "outputs": []
    },
    {
      "cell_type": "markdown",
      "metadata": {
        "id": "S7ZE5SzptITG"
      },
      "source": [
        "# Feature Engineering \n"
      ]
    },
    {
      "cell_type": "code",
      "metadata": {
        "id": "lE2UbFoCtITH"
      },
      "source": [
        "from sklearn.preprocessing import StandardScaler\n",
        "from sklearn.model_selection import train_test_split \n",
        "from sklearn.metrics import accuracy_score, confusion_matrix, precision_recall_fscore_support, classification_report,confusion_matrix\n",
        "\n",
        "sc=StandardScaler()\n",
        "sc.fit(imputedDf.drop([\"Class\",\"PROTIME\",\"BILIRUBIN\"], axis = 1))\n",
        "scaled_features = sc.transform(imputedDf.drop([\"Class\",\"PROTIME\",\"BILIRUBIN\"], axis = 1))\n",
        "X =scaled_features\n",
        "y = imputedDf[\"Class\"] \n",
        "\n",
        "# Classification on survived 'class' (target attribute) print(y) # Split dataset in training and test datasets \n",
        "X_train, X_test, y_train, y_test = train_test_split(X,y,test_size=0.4,random_state=3)"
      ],
      "execution_count": null,
      "outputs": []
    },
    {
      "cell_type": "code",
      "metadata": {
        "id": "_2rVdat7tITH"
      },
      "source": [
        "class_nobalance = pd.Series(y_train).value_counts().plot.bar()\n",
        "class_nobalance.set_title(\"Outcome ytrain (Without SMOTE)\")\n",
        "plt.gca().set_xticklabels(['Death','Alive']);\n",
        "class_nobalance.figure.savefig('class_nobalance.png')"
      ],
      "execution_count": null,
      "outputs": []
    },
    {
      "cell_type": "code",
      "metadata": {
        "id": "3GydbYvytITH"
      },
      "source": [
        "from imblearn.over_sampling import SMOTE\n",
        "from collections import Counter\n",
        "from sklearn.datasets import make_classification\n",
        "\n",
        "sm = SMOTE(random_state = 33)\n",
        "X_train_new, y_train_new = sm.fit_sample(X_train, y_train.ravel())\n",
        "class_balance = pd.Series(y_train_new).value_counts().plot.bar()\n",
        "class_balance.set_title(\"Outcome ytrain (SMOTE)\")\n",
        "plt.gca().set_xticklabels(['Death','Alive']);\n",
        "class_balance.figure.savefig('class_balance.png')"
      ],
      "execution_count": null,
      "outputs": []
    },
    {
      "cell_type": "markdown",
      "metadata": {
        "id": "3095Fwq_tITI"
      },
      "source": [
        "# Machine Learning Classifier\n",
        "Create a scoreDF to store the performance of each classifier"
      ]
    },
    {
      "cell_type": "code",
      "metadata": {
        "id": "jPdjwmCHtITI"
      },
      "source": [
        "from sklearn.model_selection import cross_validate\n",
        "\n",
        "scoreDF = pd.DataFrame(columns=['accuracy','f1','recall',\"roc_auc\",\"type\",\"balance\"])"
      ],
      "execution_count": null,
      "outputs": []
    },
    {
      "cell_type": "markdown",
      "metadata": {
        "id": "FvJa8UUntITI"
      },
      "source": [
        "# Naive Bayes\n",
        "\n"
      ]
    },
    {
      "cell_type": "code",
      "metadata": {
        "id": "kDS3u5W_tITJ"
      },
      "source": [
        "from sklearn.naive_bayes import GaussianNB, BernoulliNB, MultinomialNB \n",
        "gnb = GaussianNB()\n",
        "gnb.fit(X_train,y_train)\n",
        "\n",
        "# Test the classifier \n",
        "gnbpredict = gnb.predict(X_test)\n",
        "# Print results \n",
        "\n",
        "score = cross_validate(gnb, X_train, y_train, cv=10,scoring=['accuracy','f1','recall',\"roc_auc\"])\n",
        "print(\"Test accuracy:{}\".format(score[\"test_accuracy\"].mean()))\n",
        "data =[score[\"test_accuracy\"].mean(), score[\"test_f1\"].mean(), score[\"test_recall\"].mean(),\n",
        "       score[\"test_roc_auc\"].mean(),\"NaiveB\",\"No\"]\n",
        "scoreDF = scoreDF.append(pd.DataFrame([data], columns=scoreDF.columns), ignore_index=True, );\n",
        "\n",
        "#print(metrics.accuracy_score(y_test,gnbpredict))\n",
        "\n",
        "gnb = GaussianNB()\n",
        "gnb.fit(X_train_new,y_train_new)\n",
        "\n",
        "# Test the classifier \n",
        "gnbpredict = gnb.predict(X_test)\n",
        "\n",
        "score = cross_validate(gnb, X_train_new, y_train_new, cv=10, scoring=['accuracy', 'f1','recall',\"roc_auc\"])\n",
        "print(\"Test accuracy:{}\".format(score[\"test_accuracy\"].mean()))\n",
        "\n",
        "data =[score[\"test_accuracy\"].mean(), score[\"test_f1\"].mean(), score[\"test_recall\"].mean(),\n",
        "       score[\"test_roc_auc\"].mean(),\"NaiveB\",\"Yes\"]\n",
        "scoreDF = scoreDF.append(pd.DataFrame([data], columns=scoreDF.columns), ignore_index=True, );\n"
      ],
      "execution_count": null,
      "outputs": []
    },
    {
      "cell_type": "markdown",
      "metadata": {
        "id": "N1f_xZCFtITK"
      },
      "source": [
        "# Support Vector Machine (SVM)\n",
        "\n"
      ]
    },
    {
      "cell_type": "code",
      "metadata": {
        "id": "1nf-KcKCtITK"
      },
      "source": [
        "from sklearn.svm import SVC\n",
        "\n",
        "svc_model1 = SVC(kernel=\"poly\", C=1,gamma=\"auto\")\n",
        "svc_model2 = SVC(kernel=\"rbf\", C=1,gamma=\"auto\")\n",
        "svc_model3 = SVC(kernel=\"sigmoid\", C=1,gamma=\"auto\")\n",
        "svc_model4 = SVC(kernel=\"linear\", C=1,gamma=\"auto\")\n",
        "\n",
        "score = cross_validate(svc_model1, X_train_new, y_train_new, cv=10, scoring=['accuracy', 'f1','recall',\"roc_auc\"])\n",
        "print(\"Test accuracy of Poly Kernal:{}\".format(score[\"test_accuracy\"].mean()))\n",
        "score = cross_validate(svc_model2, X_train_new, y_train_new, cv=10, scoring=['accuracy', 'f1','recall',\"roc_auc\"])\n",
        "print(\"Test accuracy of rbf Kernal:{}\".format(score[\"test_accuracy\"].mean()))\n",
        "score = cross_validate(svc_model3, X_train_new, y_train_new, cv=10, scoring=['accuracy', 'f1','recall',\"roc_auc\"])\n",
        "print(\"Test accuracy of sigmoid Kernal:{}\".format(score[\"test_accuracy\"].mean()))\n",
        "score = cross_validate(svc_model4, X_train_new, y_train_new, cv=10, scoring=['accuracy', 'f1','recall',\"roc_auc\"])\n",
        "print(\"Test accuracy of linear Kernal:{}\".format(score[\"test_accuracy\"].mean()))"
      ],
      "execution_count": null,
      "outputs": []
    },
    {
      "cell_type": "code",
      "metadata": {
        "id": "RI6M2M7ptITL"
      },
      "source": [
        "svc=SVC(kernel=\"rbf\",gamma=\"auto\", C=1) # The default kernel used by SVC is the gaussian kernel\n",
        "svc.fit(X_train, y_train)\n",
        "SVMprediction = svc.predict(X_test)\n",
        "\n",
        "score = cross_validate(svc, X_train, y_train, cv=10,scoring=['accuracy','f1','recall',\"roc_auc\"])\n",
        "print(\"Test accuracy:{}\".format(score[\"test_accuracy\"].mean()))\n",
        "data =[score[\"test_accuracy\"].mean(), score[\"test_f1\"].mean(), score[\"test_recall\"].mean(),\n",
        "       score[\"test_roc_auc\"].mean(),\"SVC\",\"No\"]\n",
        "scoreDF = scoreDF.append(pd.DataFrame([data], columns=scoreDF.columns), ignore_index=True, );\n",
        "\n",
        "\n",
        "svc.fit(X_train_new,y_train_new)\n",
        "SVMprediction = svc.predict(X_test)\n",
        "\n",
        "score = cross_validate(svc, X_train_new, y_train_new, cv=10, scoring=['accuracy', 'f1','recall',\"roc_auc\"])\n",
        "print(\"Test accuracy:{}\".format(score[\"test_accuracy\"].mean()))\n",
        "\n",
        "data =[score[\"test_accuracy\"].mean(), score[\"test_f1\"].mean(), score[\"test_recall\"].mean(),\n",
        "       score[\"test_roc_auc\"].mean(),\"SVC\",\"Yes\"]\n",
        "scoreDF = scoreDF.append(pd.DataFrame([data], columns=scoreDF.columns), ignore_index=True, );\n"
      ],
      "execution_count": null,
      "outputs": []
    },
    {
      "cell_type": "markdown",
      "metadata": {
        "id": "m30PRK4MtITM"
      },
      "source": [
        "# KNN Classifier\n"
      ]
    },
    {
      "cell_type": "code",
      "metadata": {
        "id": "9-DT5XV0tITM"
      },
      "source": [
        "from sklearn.model_selection import cross_val_score\n",
        "from sklearn.neighbors import KNeighborsClassifier\n",
        "from sklearn import metrics\n",
        "scores=[]\n",
        "lrange=list(range(1,20))\n",
        "for k in lrange:\n",
        "# input the k value and 'distance' measure \n",
        "    knn=KNeighborsClassifier(n_neighbors=k, weights='distance', algorithm='auto')\n",
        "\n",
        "    score = cross_val_score(knn, X_train, y_train, cv=10, scoring='accuracy')\n",
        "    scores.append(score.mean())\n",
        "\n",
        "optimal_k = lrange[scores.index(max(scores))]\n",
        "print(\"The optimal number of neighbors [unbalance dataset] is %d\" % optimal_k)\n",
        "print(\"The optimal score is %.2f\" % max(scores))\n",
        "\n",
        "plt.figure(2,figsize=(15,5))\n",
        "plt.plot(lrange, scores,ls='dashed')\n",
        "plt.xlabel('Value of k for KNN')\n",
        "plt.ylabel('Accuracy Score')\n",
        "plt.title('Accuracy Scores for Values of k of k-Nearest-Neighbors')\n",
        "plt.show()"
      ],
      "execution_count": null,
      "outputs": []
    },
    {
      "cell_type": "code",
      "metadata": {
        "id": "0XwWCU94tITM"
      },
      "source": [
        "scores=[]\n",
        "lrange=list(range(1,20))\n",
        "for k in lrange:\n",
        "# input the k value and 'distance' measure \n",
        "    knn=KNeighborsClassifier(n_neighbors=k, weights='distance', algorithm='auto')\n",
        "\n",
        "    score = cross_val_score(knn, X_train_new, y_train_new, cv=10, scoring='accuracy')\n",
        "    scores.append(score.mean())\n",
        "\n",
        "optimal_k = lrange[scores.index(max(scores))]\n",
        "print(\"The optimal number of neighbors [balance dataset] is %d\" % optimal_k)\n",
        "print(\"The optimal score is %.2f\" % max(scores))\n",
        "\n",
        "plt.figure(2,figsize=(15,5))\n",
        "plt.plot(lrange, scores,ls='dashed')\n",
        "plt.xlabel('Value of k for KNN')\n",
        "plt.ylabel('Accuracy Score')\n",
        "plt.title('Accuracy Scores for Values of k of k-Nearest-Neighbors')\n",
        "plt.show()"
      ],
      "execution_count": null,
      "outputs": []
    },
    {
      "cell_type": "code",
      "metadata": {
        "id": "5XvdR6dHtITN"
      },
      "source": [
        "knn = KNeighborsClassifier(n_neighbors=1)\n",
        "knn.fit(X_train,y_train)\n",
        "knnpred = knn.predict(X_test)\n",
        "\n",
        "score = cross_validate(knn, X_train, y_train, cv=10,scoring=['accuracy','f1','recall',\"roc_auc\"])\n",
        "print(\"Test accuracy:{}\".format(score[\"test_accuracy\"].mean()))\n",
        "data =[score[\"test_accuracy\"].mean(), score[\"test_f1\"].mean(), score[\"test_recall\"].mean(),\n",
        "       score[\"test_roc_auc\"].mean(),\"KNN\",\"No\"]\n",
        "scoreDF = scoreDF.append(pd.DataFrame([data], columns=scoreDF.columns), ignore_index=True, );\n",
        "\n",
        "#print(metrics.accuracy_score(y_test,knnpred))\n",
        "\n",
        "knn.fit(X_train_new,y_train_new)\n",
        "knnpred = knn.predict(X_test)\n",
        "\n",
        "score = cross_validate(knn, X_train_new, y_train_new, cv=10, scoring=['accuracy', 'f1','recall',\"roc_auc\"])\n",
        "print(\"Test accuracy:{}\".format(score[\"test_accuracy\"].mean()))\n",
        "\n",
        "data =[score[\"test_accuracy\"].mean(), score[\"test_f1\"].mean(), score[\"test_recall\"].mean(),\n",
        "       score[\"test_roc_auc\"].mean(),\"KNN\",\"Yes\"]\n",
        "scoreDF = scoreDF.append(pd.DataFrame([data], columns=scoreDF.columns), ignore_index=True, );"
      ],
      "execution_count": null,
      "outputs": []
    },
    {
      "cell_type": "markdown",
      "metadata": {
        "id": "r1v13nFztITN"
      },
      "source": [
        "# Performance Evaluation"
      ]
    },
    {
      "cell_type": "code",
      "metadata": {
        "id": "73ojwlgmtITN"
      },
      "source": [
        "scoreDF"
      ],
      "execution_count": null,
      "outputs": []
    },
    {
      "cell_type": "code",
      "metadata": {
        "id": "r8X4n7zZtITO"
      },
      "source": [
        "accuracyPlot = sns.barplot(x='type',y='accuracy',data=scoreDF, hue=\"balance\")\n",
        "accuracyPlot.set_title(\"Classifier Mean Accuracy\")\n",
        "accuracyPlot.figure.savefig('accuracyPlot.png')"
      ],
      "execution_count": null,
      "outputs": []
    },
    {
      "cell_type": "code",
      "metadata": {
        "id": "6UYRz2MAtITO"
      },
      "source": [
        "f1Plot = sns.barplot(x='type',y='f1',data=scoreDF, hue=\"balance\");\n",
        "f1Plot.set_title(\"Classifier Mean F1-Score\")\n",
        "f1Plot.figure.savefig('f1Plot.png')"
      ],
      "execution_count": null,
      "outputs": []
    },
    {
      "cell_type": "code",
      "metadata": {
        "id": "DmVJAahrtITO"
      },
      "source": [
        "recallPlot = sns.barplot(x='type',y='recall',data=scoreDF, hue=\"balance\");\n",
        "recallPlot.set_title(\"Classifier Mean Recall-Score\")\n",
        "recallPlot.figure.savefig('recallPlot.png')"
      ],
      "execution_count": null,
      "outputs": []
    },
    {
      "cell_type": "code",
      "metadata": {
        "id": "8lzFssCttITP"
      },
      "source": [
        "rocPlot = sns.barplot(x='type',y='roc_auc',data=scoreDF, hue=\"balance\");\n",
        "rocPlot.set_title(\"Classifier Mean ROC-AUC\")\n",
        "rocPlot.figure.savefig('rocPlot.png')"
      ],
      "execution_count": null,
      "outputs": []
    },
    {
      "cell_type": "markdown",
      "metadata": {
        "id": "9hsLT0ZStITP"
      },
      "source": [
        ""
      ]
    },
    {
      "cell_type": "code",
      "metadata": {
        "id": "bz_0w4GStITP"
      },
      "source": [
        ""
      ],
      "execution_count": null,
      "outputs": []
    }
  ]
}